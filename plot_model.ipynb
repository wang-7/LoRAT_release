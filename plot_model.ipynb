{
 "cells": [
  {
   "cell_type": "code",
   "execution_count": 1,
   "metadata": {},
   "outputs": [],
   "source": [
    "from scipy.io import loadmat\n",
    "\n",
    "path = '/home/zuser/project/WQ/RF_Diffusion/RF-Diffusion/dataset/wifi/cond/user1-1-1-5-5-r5.mat'\n",
    "data = loadmat(path,verify_compressed_data_integrity=False)"
   ]
  },
  {
   "cell_type": "code",
   "execution_count": 2,
   "metadata": {},
   "outputs": [
    {
     "data": {
      "text/plain": [
       "(torch.Size([1, 6, 2]), torch.Size([1, 512, 90, 2]))"
      ]
     },
     "execution_count": 2,
     "metadata": {},
     "output_type": "execute_result"
    }
   ],
   "source": [
    "import torch\n",
    "import torch.nn.functional as F\n",
    "\n",
    "feature = torch.view_as_real(torch.from_numpy(data['feature']).to(torch.complex64)).permute(1, 2, 0)\n",
    "down_sample = F.interpolate(feature, 512, mode='nearest-exact')\n",
    "norm_data = (down_sample - down_sample.mean()) / down_sample.std()\n",
    "feature = norm_data.permute(2, 0, 1).unsqueeze(0).to('cuda:0')\n",
    "\n",
    "cond = torch.view_as_real(torch.from_numpy(data['cond']).to(torch.complex64)).to('cuda:0')\n",
    "\n",
    "cond.shape, feature.shape"
   ]
  },
  {
   "cell_type": "code",
   "execution_count": 3,
   "metadata": {},
   "outputs": [
    {
     "name": "stderr",
     "output_type": "stream",
     "text": [
      "/home/zuser/project/WQ/RF_Diffusion/RF-Diffusion/complex/complex_module.py:278: TracerWarning: Converting a tensor to a Python float might cause the trace to be incorrect. We can't record the data flow of Python values, so this value will be treated as a constant in the future. This means that the trace might not generalize to other inputs!\n",
      "  complex_bmm(queries, keys.transpose(1, 2)) / math.sqrt(query_key_dim)\n"
     ]
    },
    {
     "ename": "",
     "evalue": "",
     "output_type": "error",
     "traceback": [
      "\u001b[1;31m在当前单元格或上一个单元格中执行代码时 Kernel 崩溃。\n",
      "\u001b[1;31m请查看单元格中的代码，以确定故障的可能原因。\n",
      "\u001b[1;31m单击<a href='https://aka.ms/vscodeJupyterKernelCrash'>此处</a>了解详细信息。\n",
      "\u001b[1;31m有关更多详细信息，请查看 Jupyter <a href='command:jupyter.viewOutput'>log</a>。"
     ]
    }
   ],
   "source": [
    "from tfdiff.wifi_model import tfdiff_WiFi\n",
    "from tfdiff.params import AttrDict, all_params\n",
    "from torch.utils.tensorboard import SummaryWriter\n",
    "from tfdiff.diffusion import SignalDiffusion\n",
    "\n",
    "writer = SummaryWriter()\n",
    "params = all_params[0]\n",
    "batch_size = cond.shape[0]\n",
    "batch_max = 20*torch.ones(batch_size, dtype=torch.int64)\n",
    "diffusion = SignalDiffusion(params).to('cuda:0')\n",
    "x_s = diffusion.degrade_fn(feature, batch_max, 0).to('cuda:0')\n",
    "model = tfdiff_WiFi(AttrDict(params)).to('cuda:0')\n",
    "writer.add_graph(model, (x_s, batch_max, cond))\n",
    "writer.close()"
   ]
  },
  {
   "cell_type": "code",
   "execution_count": 14,
   "metadata": {},
   "outputs": [
    {
     "name": "stdout",
     "output_type": "stream",
     "text": [
      "============= Diagnostic Run torch.onnx.export version 2.0.0+cu117 =============\n",
      "verbose: False, log level: Level.ERROR\n",
      "======================= 0 NONE 0 NOTE 0 WARNING 0 ERROR ========================\n",
      "\n"
     ]
    }
   ],
   "source": [
    "torch.onnx.export(model, (x_s, batch_max, cond), 'tfdiff_wifi.onnx')"
   ]
  },
  {
   "cell_type": "code",
   "execution_count": 15,
   "metadata": {},
   "outputs": [
    {
     "name": "stdout",
     "output_type": "stream",
     "text": [
      "Serving 'tfdiff_wifi.onnx' at http://localhost:8080\n"
     ]
    },
    {
     "data": {
      "text/plain": [
       "('localhost', 8080)"
      ]
     },
     "execution_count": 15,
     "metadata": {},
     "output_type": "execute_result"
    }
   ],
   "source": [
    "import netron\n",
    "path = 'tfdiff_wifi.onnx'\n",
    "netron.start(path)"
   ]
  }
 ],
 "metadata": {
  "kernelspec": {
   "display_name": "RF-Diffusion",
   "language": "python",
   "name": "python3"
  },
  "language_info": {
   "codemirror_mode": {
    "name": "ipython",
    "version": 3
   },
   "file_extension": ".py",
   "mimetype": "text/x-python",
   "name": "python",
   "nbconvert_exporter": "python",
   "pygments_lexer": "ipython3",
   "version": "3.8.19"
  }
 },
 "nbformat": 4,
 "nbformat_minor": 2
}
