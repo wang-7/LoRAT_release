{
 "cells": [
  {
   "cell_type": "code",
   "execution_count": 1,
   "id": "d42dec00",
   "metadata": {},
   "outputs": [
    {
     "name": "stdout",
     "output_type": "stream",
     "text": [
      "(1008, 6, 96, 52)\n"
     ]
    }
   ],
   "source": [
    "import numpy as np\n",
    "\n",
    "data_path = '/mnt/data/WQ/Raw-CSI-Data/set2_4_29/5026_6_96_52_test_data.npy'\n",
    "data = np.load(data_path)\n",
    "print(data.shape)"
   ]
  },
  {
   "cell_type": "code",
   "execution_count": 8,
   "id": "f77c64b0",
   "metadata": {},
   "outputs": [],
   "source": [
    "from einops import rearrange, reduce, repeat\n",
    "uplink = data[:, 4, 2, :26]\n",
    "downlink = data[:, 4, 2, 26:]\n",
    "uplink = rearrange(uplink, '(sample time) freq -> sample time freq', time=14)\n",
    "downlink = rearrange(downlink, '(sample time) freq -> sample time freq', time=14)\n",
    "# Calculate power (assuming complex values)\n",
    "uplink_power = np.sum(np.abs(uplink) ** 2, axis=(-1, -2))\n",
    "downlink_power = np.sum(np.abs(downlink) ** 2, axis=(-1, -2))\n",
    "\n",
    "# Calculate SNR in dB\n",
    "snr_diff = 10 * np.log10(uplink_power / downlink_power)\n",
    "# print(f\"Average SNR difference (Uplink - Downlink): {np.mean(snr_diff):.2f} dB\")\n",
    "# snr_diff\n",
    "np.save('all_snr_list.npy', snr_diff)"
   ]
  }
 ],
 "metadata": {
  "kernelspec": {
   "display_name": "moe",
   "language": "python",
   "name": "python3"
  },
  "language_info": {
   "codemirror_mode": {
    "name": "ipython",
    "version": 3
   },
   "file_extension": ".py",
   "mimetype": "text/x-python",
   "name": "python",
   "nbconvert_exporter": "python",
   "pygments_lexer": "ipython3",
   "version": "3.9.21"
  }
 },
 "nbformat": 4,
 "nbformat_minor": 5
}
