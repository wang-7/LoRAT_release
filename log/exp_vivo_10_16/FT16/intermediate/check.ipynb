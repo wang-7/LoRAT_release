{
 "cells": [
  {
   "cell_type": "code",
   "execution_count": 6,
   "id": "1e308508",
   "metadata": {},
   "outputs": [
    {
     "name": "stdout",
     "output_type": "stream",
     "text": [
      "NpzFile 'data_246000.npz' with keys: data, degrade_data, predicted, cond, t\n",
      "(16, 10, 1, 32, 2) (16, 10, 1, 32, 2) (16, 10, 1, 32, 2) (16, 10, 1, 32, 2) (16,)\n"
     ]
    }
   ],
   "source": [
    "import numpy as np\n",
    "\n",
    "data = np.load('data_246000.npz', allow_pickle=True)\n",
    "print(data)\n",
    "origin = data['data']\n",
    "degrade = data['degrade_data']\n",
    "pred = data['predicted']\n",
    "cond = data['cond']\n",
    "t = data['t']\n",
    "print(origin.shape, degrade.shape, pred.shape, cond.shape, t.shape)"
   ]
  },
  {
   "cell_type": "code",
   "execution_count": 8,
   "id": "85501fd6",
   "metadata": {},
   "outputs": [
    {
     "name": "stdout",
     "output_type": "stream",
     "text": [
      "SNR: [5.7933187 6.352104  4.9655766 4.140466  6.351798  6.733595  4.7891264\n",
      " 5.8547378 6.879871  6.810327  6.3580055 7.482169  4.962891  6.5939846\n",
      " 6.791008  5.930215 ]\n",
      "[ 81  15 194  89 140  65 161  87  51  94  35  68 148 195  57  17]\n"
     ]
    }
   ],
   "source": [
    "# shape [batch_size, time, 1, ant, complex]\n",
    "# Calculate the Signal-to-Noise Ratio (SNR) for the predictions\n",
    "signal_power = np.mean(np.abs(origin)**2, axis=(1, 2, 3, 4))\n",
    "noise_power = np.mean(np.abs(origin - pred)**2, axis=(1, 2, 3, 4))\n",
    "snr = 10 * np.log10(signal_power / noise_power)\n",
    "print(\"SNR:\", snr)\n",
    "print(t)"
   ]
  }
 ],
 "metadata": {
  "kernelspec": {
   "display_name": "moe",
   "language": "python",
   "name": "python3"
  },
  "language_info": {
   "codemirror_mode": {
    "name": "ipython",
    "version": 3
   },
   "file_extension": ".py",
   "mimetype": "text/x-python",
   "name": "python",
   "nbconvert_exporter": "python",
   "pygments_lexer": "ipython3",
   "version": "3.9.21"
  }
 },
 "nbformat": 4,
 "nbformat_minor": 5
}
